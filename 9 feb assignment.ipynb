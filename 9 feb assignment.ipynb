{
 "cells": [
  {
   "cell_type": "markdown",
   "id": "1dde4c29",
   "metadata": {},
   "source": [
    "# Q1, Create a vehicle class with an init method having instance variables as name_of_vehicle, max_speed and average_of_vehicle."
   ]
  },
  {
   "cell_type": "code",
   "execution_count": 1,
   "id": "9b996e9b",
   "metadata": {},
   "outputs": [],
   "source": [
    "class Vehicle:\n",
    "    \n",
    "    def __init__(self,name_of_vehicle,max_speed,average_of_vehicle):\n",
    "        self.name_of_vehicle = name_of_vehicle\n",
    "        self.max_speed = max_speed\n",
    "        self.average_of_vehicle = average_of_vehicle"
   ]
  },
  {
   "cell_type": "code",
   "execution_count": null,
   "id": "600487f0",
   "metadata": {},
   "outputs": [],
   "source": []
  },
  {
   "cell_type": "markdown",
   "id": "fcdc1e9a",
   "metadata": {},
   "source": [
    "# Q2. Create a child class car from the vehicle class created in Que 1, which will inherit the vehicle class. Create a method named seating_capacity which takes capacity as an argument and returns the name of the vehicle and its seating capacity."
   ]
  },
  {
   "cell_type": "code",
   "execution_count": 2,
   "id": "70f5e1b0",
   "metadata": {},
   "outputs": [],
   "source": [
    "class Vehicle:\n",
    "    def __init__(self, name_of_vehicle, max_speed, average_of_vehicle):\n",
    "        self.name_of_vehicle = name_of_vehicle\n",
    "        self.max_speed = max_speed\n",
    "        self.average_of_vehicle = average_of_vehicle"
   ]
  },
  {
   "cell_type": "code",
   "execution_count": 3,
   "id": "b31ca978",
   "metadata": {},
   "outputs": [],
   "source": [
    "class Car(Vehicle):\n",
    "    def seating_capacity(self, capacity):\n",
    "        return \"The vehicle {} has a seating capacity of {}\".format(self.name_of_vehicle, capacity)"
   ]
  },
  {
   "cell_type": "code",
   "execution_count": 4,
   "id": "3774a3ef",
   "metadata": {},
   "outputs": [
    {
     "name": "stdout",
     "output_type": "stream",
     "text": [
      "The vehicle Honda Civic has a seating capacity of 5\n"
     ]
    }
   ],
   "source": [
    "my_car = Car(\"Honda Civic\", 180, 25)\n",
    "print(my_car.seating_capacity(5))"
   ]
  },
  {
   "cell_type": "code",
   "execution_count": null,
   "id": "961f75a0",
   "metadata": {},
   "outputs": [],
   "source": []
  },
  {
   "cell_type": "markdown",
   "id": "aa9d75cb",
   "metadata": {},
   "source": [
    "# Q3.What is multiple inheritance? Write a python code to demonstrate multiple inheritance.\n",
    "## Answer:- Multiple inheritance is a feature of object-oriented programming languages that allows a class to inherit properties and behaviors from more than one parent class. This means that a class can inherit attributes and methods from multiple classes, thereby achieving polymorphism and code reusability.\n",
    "## Code:-"
   ]
  },
  {
   "cell_type": "code",
   "execution_count": 13,
   "id": "6817a795",
   "metadata": {},
   "outputs": [],
   "source": [
    "class Vehicles:\n",
    "    \n",
    "    def __init__(self,wheel,fuel_type):\n",
    "        self.wheel = wheel\n",
    "        self.fuel_type = fuel_type\n",
    "        \n",
    "    def display_details(self):\n",
    "        print(\"This is a vehicle with\", self.wheel, \"wheels and runs on\", self.fuel_type, \"fuel.\")\n",
    "\n",
    "class car(Vehicles):\n",
    "    \n",
    "    def __init__(self,make,model,year,wheel,fuel_type):\n",
    "        Vehicles.__init__(self,wheel,fuel_type)\n",
    "        self.make = make\n",
    "        self.model = model\n",
    "        self.year = year\n",
    "    \n",
    "    \n",
    "    def display_details(self):\n",
    "        Vehicles.display_details(self)\n",
    "        \n",
    "        print(\"It is a\", self.year, self.make, self.model, \".\")\n",
    "\n",
    "\n",
    "class Electriccar(car):\n",
    "    \n",
    "    def __init__(self, make, model, year):\n",
    "         car.__init__(self, make, model, year, 4,'electric')"
   ]
  },
  {
   "cell_type": "code",
   "execution_count": 14,
   "id": "af780dc7",
   "metadata": {},
   "outputs": [
    {
     "name": "stdout",
     "output_type": "stream",
     "text": [
      "This is a vehicle with 4 wheels and runs on electric fuel.\n",
      "It is a 2022 Tesla Model S .\n"
     ]
    }
   ],
   "source": [
    "electric_car = Electriccar(\"Tesla\", \"Model S\", 2022)\n",
    "electric_car.display_details()"
   ]
  },
  {
   "cell_type": "markdown",
   "id": "3f7a6071",
   "metadata": {},
   "source": [
    "## The Vehicle class is defined which has wheels and fuel_type attributes and a display_details method to display the number of wheels and fuel type of a vehicle.\n",
    "\n",
    "## The Car class is defined which inherits from the Vehicle class. The Car class has additional make, model, and year attributes and its own implementation of the display_details method which first calls the Vehicle class's display_details method and then displays additional information about the car's make, model, and year.\n",
    "\n",
    "## The ElectricCar class is defined which inherits from the Car class. The ElectricCar class has its own __init__ method which sets the make, model, and year attributes and passes them to the Car class's __init__ method. It also sets the wheels attribute to 4 and the fuel_type attribute to \"electric\".\n",
    "\n",
    "## An instance of the ElectricCar class is created and its display_details method is called to display information about the electric car. The information displayed includes the number of wheels and fuel type inherited from the Vehicle class and the make, model, and year of the car inherited from the Car class."
   ]
  },
  {
   "cell_type": "code",
   "execution_count": null,
   "id": "bf7e0a59",
   "metadata": {},
   "outputs": [],
   "source": [
    "class Vehicle:\n",
    "    def __init__(self, name_of_vehicle, max_speed, average_of_vehicle):\n",
    "        self.name_of_vehicle = name_of_vehicle\n",
    "        self.max_speed = max_speed\n",
    "        self.average_of_vehicle = average_of_vehicle\n",
    "        \n",
    "class Car(Vehicle):\n",
    "    def __init__(self, name_of_vehicle, max_speed, average_of_vehicle, type_of_car):\n",
    "        Vehicle.__init__(self, name_of_vehicle, max_speed, average_of_vehicle)\n",
    "        self.type_of_car = type_of_car\n",
    "        \n",
    "    def seating_capacity(self, capacity):\n",
    "        return \"The vehicle {} has a seating capacity of {}\".format(self.name_of_vehicle, capacity)\n"
   ]
  },
  {
   "cell_type": "code",
   "execution_count": null,
   "id": "890db938",
   "metadata": {},
   "outputs": [],
   "source": []
  },
  {
   "cell_type": "markdown",
   "id": "bc2f7e21",
   "metadata": {},
   "source": [
    "# Q4. What are getter and setter in python? Create a class and create a getter and a setter method in this class.\n",
    "\n",
    "## Answer:- A getter method returns the value of the private variable, while a setter method sets a new value for the private variable."
   ]
  },
  {
   "cell_type": "code",
   "execution_count": 1,
   "id": "30e8796f",
   "metadata": {},
   "outputs": [
    {
     "name": "stdout",
     "output_type": "stream",
     "text": [
      "John\n",
      "Alice\n"
     ]
    }
   ],
   "source": [
    "class Person:\n",
    "    def __init__(self, name):\n",
    "        self._name = name  # private variable with underscore prefix\n",
    "    \n",
    "    def get_name(self):\n",
    "        return self._name\n",
    "    \n",
    "    def set_name(self, new_name):\n",
    "        self._name = new_name\n",
    "\n",
    "        \n",
    "person = Person(\"John\")\n",
    "print(person.get_name())  \n",
    "\n",
    "person.set_name(\"Alice\")\n",
    "print(person.get_name())  "
   ]
  },
  {
   "cell_type": "code",
   "execution_count": null,
   "id": "5c5e1ff2",
   "metadata": {},
   "outputs": [],
   "source": []
  },
  {
   "cell_type": "markdown",
   "id": "e6061ad8",
   "metadata": {},
   "source": [
    "# Q5.What is method overriding in python? Write a python code to demonstrate method overriding.\n",
    "## Answer:- Method overriding is a feature of object-oriented programming in which a subclass provides a different implementation of a method that is already defined in its parent class. When a subclass defines a method with the same name and signature as a method in its parent class, the subclass method overrides the parent method."
   ]
  },
  {
   "cell_type": "code",
   "execution_count": 2,
   "id": "5374ea58",
   "metadata": {},
   "outputs": [
    {
     "name": "stdout",
     "output_type": "stream",
     "text": [
      "The animal makes a sound.\n",
      "Meow\n",
      "Woof\n"
     ]
    }
   ],
   "source": [
    "class Animal:\n",
    "    def make_sound(self):\n",
    "        print(\"The animal makes a sound.\")\n",
    "\n",
    "class Cat(Animal):\n",
    "    def make_sound(self):\n",
    "        print(\"Meow\")\n",
    "\n",
    "class Dog(Animal):\n",
    "    def make_sound(self):\n",
    "        print(\"Woof\")\n",
    "\n",
    "animal = Animal()\n",
    "animal.make_sound()  # output: \"The animal makes a sound.\"\n",
    "\n",
    "cat = Cat()\n",
    "cat.make_sound()  # output: \"Meow\"\n",
    "\n",
    "dog = Dog()\n",
    "dog.make_sound()  # output: \"Woof\""
   ]
  },
  {
   "cell_type": "code",
   "execution_count": null,
   "id": "d01a0e92",
   "metadata": {},
   "outputs": [],
   "source": []
  }
 ],
 "metadata": {
  "kernelspec": {
   "display_name": "Python 3 (ipykernel)",
   "language": "python",
   "name": "python3"
  },
  "language_info": {
   "codemirror_mode": {
    "name": "ipython",
    "version": 3
   },
   "file_extension": ".py",
   "mimetype": "text/x-python",
   "name": "python",
   "nbconvert_exporter": "python",
   "pygments_lexer": "ipython3",
   "version": "3.9.12"
  }
 },
 "nbformat": 4,
 "nbformat_minor": 5
}
